{
 "cells": [
  {
   "cell_type": "code",
   "execution_count": null,
   "metadata": {},
   "outputs": [],
   "source": [
    "import sstar"
   ]
  },
  {
   "cell_type": "code",
   "execution_count": null,
   "metadata": {},
   "outputs": [],
   "source": [
    "from sstar import preprocess\n",
    "from sstar import train\n",
    "from sstar import stats\n",
    "from sstar import infer"
   ]
  },
  {
   "cell_type": "code",
   "execution_count": null,
   "metadata": {},
   "outputs": [],
   "source": [
    "#parameters for training\n",
    "\n",
    "demo_model_file=\"./examples/models/archie2.yaml\"\n",
    "nrep = 10000\n",
    "nref = 25\n",
    "ntgt= 25\n",
    "ref_id = 'N1'\n",
    "tgt_id = 'N2'\n",
    "src_id = 'Na'\n",
    "seq_len = 50000\n",
    "mut_rate = 1.25e-8\n",
    "rec_rate = 1e-8\n",
    "thread = 6\n",
    "output_prefix = 'v21t'\n",
    "output_dir = \"v2105new\"\n",
    "seed = None\n",
    "preprocess.store_global_parameters(demo_model_file, nrep, nref, ntgt, ref_id, tgt_id, src_id, seq_len, mut_rate, rec_rate, thread, output_prefix, output_dir)"
   ]
  },
  {
   "cell_type": "code",
   "execution_count": null,
   "metadata": {},
   "outputs": [],
   "source": [
    "#train logistisc classifier with simulated data\n",
    "train.train_parameters_archienew_fin(demo_model_file, nrep, nref, ntgt, ref_id, tgt_id, src_id, seq_len, mut_rate, rec_rate, thread, output_prefix, output_dir)"
   ]
  },
  {
   "cell_type": "code",
   "execution_count": null,
   "metadata": {},
   "outputs": [],
   "source": [
    "#test_parameters\n",
    "demo_model_file=\"./examples/models/archie2.yaml\"\n",
    "nrep = 10\n",
    "nref = 25\n",
    "ntgt= 25\n",
    "ref_id = 'N1'\n",
    "tgt_id = 'N2'\n",
    "src_id = 'Na'\n",
    "seq_len = 1000000\n",
    "mut_rate = 1.25e-8\n",
    "rec_rate = 1e-8\n",
    "thread = 6\n",
    "seed = None\n",
    "preprocess.store_global_parameters(demo_model_file, nrep, nref, ntgt, ref_id, tgt_id, src_id, seq_len, mut_rate, rec_rate, thread, output_prefix, output_dir)"
   ]
  },
  {
   "cell_type": "code",
   "execution_count": null,
   "metadata": {},
   "outputs": [],
   "source": [
    "#output filenames for models\n",
    "scikitfile = output_prefix + \".scikit.pickle\"\n",
    "statsmodelsfile = output_prefix + \".statsmodels.pickle\""
   ]
  },
  {
   "cell_type": "code",
   "execution_count": null,
   "metadata": {},
   "outputs": [],
   "source": [
    "#simulate test data and predict\n",
    "infer.simulate_predict_introgression(demo_model_file, nrep, nref, ntgt, ref_id, tgt_id, src_id, seq_len, mut_rate, rec_rate, thread,output_prefix, output_dir,  statsmodelsfile, scikitfile)"
   ]
  }
 ],
 "metadata": {
  "kernelspec": {
   "display_name": "sstar-analysis2",
   "language": "python",
   "name": "python3"
  },
  "language_info": {
   "codemirror_mode": {
    "name": "ipython",
    "version": 3
   },
   "file_extension": ".py",
   "mimetype": "text/x-python",
   "name": "python",
   "nbconvert_exporter": "python",
   "pygments_lexer": "ipython3",
   "version": "3.8.15"
  },
  "orig_nbformat": 4
 },
 "nbformat": 4,
 "nbformat_minor": 2
}
